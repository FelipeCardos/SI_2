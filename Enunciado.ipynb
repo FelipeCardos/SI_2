{
 "cells": [
  {
   "cell_type": "markdown",
   "metadata": {},
   "source": [
    "# Sistemas Inteligentes 2021/2022\n",
    "\n",
    "## Mini-projeto 2: Quadrados Latinos\n"
   ]
  },
  {
   "cell_type": "markdown",
   "metadata": {},
   "source": [
    "![title](latin2.png)"
   ]
  },
  {
   "cell_type": "markdown",
   "metadata": {},
   "source": [
    "### Introdução\n",
    "\n",
    "A imagem acima [(link)](https://wikimedia.org/api/rest_v1/media/math/render/svg/d9d28d25e16d5faea934a2ca12e23c1f57a31e39) é um exemplo de um [quadrado latino](https://pt.wikipedia.org/wiki/Quadrado_latino). Pode ser representado por uma matriz *n x n* em que cada linha e coluna contêm exatamente uma vez um símbolo ou número de entre *n* símbolos possíveis.\n",
    "\n",
    "Uma variação do Quadrado Latino é o puzzle de [Futoshiki](https://pt.wikipedia.org/wiki/Futoshiki). Este puzzle é representado exatamente da mesma forma, por uma matriz *n x n*, em que os números de 1 a *n* só podem aparecer uma única vez na mesma linha ou coluna da matriz. Para além disso, têm ainda de satisfazer as desigualdades colocadas em algumas células adjacentes. Este [link](https://www.futoshiki.org/) pode ser usado para gerar puzzles e testar a implementação.\n",
    "\n",
    "### Objetivos\n",
    "\n",
    "O objetivo deste projeto é formular esta classe de puzzles como um CSP.\n",
    "Este trabalho está dividido em dois sub-problemas, o dos quadrados latinos normal, e a sua variação Futoshiki. O objetivo é formular cada problema de acordo com um CSP, usando a implementação disponibilizada pelo módulo `csp.py` que tem sido utilizado nas aulas PL, e resolver os problemas utilizando os algoritmos de procura adequados. Deverá apresentar a sua implementação bem como os testes que considerar necessários para demonstrar que a formulação está bem feita.\n",
    "\n",
    "\n",
    "#### Importante\n",
    "- Alguns dos quadrados podem já estar preenchidos. Isto deve ser contemplado na implementação.\n",
    "- Utilizem o ficheiro `csp.py` que vem com o *zip* do projeto.\n",
    "\n",
    "### Relatório\n",
    "\n",
    "O relatório é **obrigatório** e deverá ser apresentado em Jupyter Notebook **(*.ipynb)**, contendo:\n",
    "\n",
    "1. Explicação sobre a formulação do problema\n",
    "2. Implementação em Python para a formulação dos problemas e execução dos algoritmos, correr o código e apresentar os testes que considerem necessários\n",
    "3. Aplicação e comentários dos resultados dos algoritmos de procura para encontrar a solução dos problemas\n",
    "\n",
    "Qualquer trabalho que não tenha relatório ou não o tenha no formato pedido não será avaliado (i.e., nota 0). É fornecido um ficheiro esqueleto, **SI-proj2-XX.ipynb** (onde XX é o número do grupo) para realização do relatório. Não se esqueça de preencher os nomes e números dos elementos do grupo.\n",
    "\n",
    "### Entrega\n",
    "\n",
    "Deverá entregar um **zip** chamado **SI-proj2-XX** (onde XX é o número do grupo) com os dois ficheiros pedidos (relatório em formato `.ipynb`). Não altere o csp.py das aulas PL e não o submeta com o projeto. \n",
    "\n",
    "**Data limite:** 4 de Maio às 23h59"
   ]
  },
  {
   "cell_type": "markdown",
   "metadata": {},
   "source": []
  },
  {
   "cell_type": "code",
   "execution_count": 2,
   "metadata": {},
   "outputs": [
    {
     "name": "stdout",
     "output_type": "stream",
     "text": [
      "{0: [(0, 0), (0, 1), (0, 2), (1, 0), (1, 1), (1, 2), (2, 0), (2, 1), (2, 2)], 1: [(0, 0), (0, 1), (0, 2), (1, 0), (1, 1), (1, 2), (2, 0), (2, 1), (2, 2)], 2: [(0, 0), (0, 1), (0, 2), (1, 0), (1, 1), (1, 2), (2, 0), (2, 1), (2, 2)]}\n",
      "defaultdict(<class 'list'>, {'0': ['1', '2'], '1': ['0', '2'], '2': ['0', '1']})\n"
     ]
    }
   ],
   "source": [
    "from csp import *\n",
    "\n",
    "n=3\n",
    "variables = [x for x in range(n)]\n",
    "domains = {}\n",
    "neighbors = ''\n",
    "restricoes = {}\n",
    "\n",
    "\n",
    "for variable in variables:\n",
    "    domains[variable] = [(x, y) for x in range(n) for y in range(n)]\n",
    "print(domains)\n",
    "\n",
    "neighbors = \"\"\n",
    "for variable in variables:\n",
    "    neighbors+= str(variable) + ': '\n",
    "    for variable2 in variables[variable+1:]:\n",
    "        neighbors+= str(variable2) + ' '\n",
    "    if variable != variables[-1]:\n",
    "        neighbors+= ';'\n",
    "    else:\n",
    "        continue\n",
    "neighbors = parse_neighbors(neighbors)\n",
    "print(neighbors)\n",
    "\n",
    "def restricoes_futoshiki(X, a, Y, b):\n",
    "        pass"
   ]
  }
 ],
 "metadata": {
  "interpreter": {
   "hash": "f146a85e10e203be66454fec2fca7d619902f4e858b262c1d7ed5bda5980be2a"
  },
  "kernelspec": {
   "display_name": "Python 3.8.12 ('pytorch')",
   "language": "python",
   "name": "python3"
  },
  "language_info": {
   "codemirror_mode": {
    "name": "ipython",
    "version": 3
   },
   "file_extension": ".py",
   "mimetype": "text/x-python",
   "name": "python",
   "nbconvert_exporter": "python",
   "pygments_lexer": "ipython3",
   "version": "3.8.12"
  },
  "orig_nbformat": 4
 },
 "nbformat": 4,
 "nbformat_minor": 2
}

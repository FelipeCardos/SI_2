{
 "cells": [
  {
   "cell_type": "markdown",
   "id": "bf9c87b1",
   "metadata": {},
   "source": [
    "# Sistemas Inteligentes 2021/2022\n",
    "\n",
    "## Mini-projeto 2: Quadrados Latinos\n"
   ]
  },
  {
   "cell_type": "markdown",
   "id": "d7b8efca",
   "metadata": {},
   "source": [
    "## Grupo: 36\n",
    "\n",
    "### Elementos do Grupo\n",
    "\n",
    "Número:55856         Nome:Bernardo Rebelo     \n",
    "Número:         Nome:Felipe Habib     \n",
    "Número:56952         Nome:Tiago Rosa      \n",
    "\n",
    "(Nota: Neste relatório pode adicionar as células de texto e código que achar necessárias.)"
   ]
  },
  {
   "cell_type": "markdown",
   "id": "df10acb0",
   "metadata": {},
   "source": [
    "## Representação de variáveis, domínios, vizinhos e restrições\n",
    "\n",
    "Descreva aqui, textualmente, como decidiu representar as variáveis, domínios, vizinhos e restrições em Python;"
   ]
  },
  {
   "cell_type": "markdown",
   "id": "4ab69211",
   "metadata": {},
   "source": [
    "## Formulação do problema"
   ]
  },
  {
   "cell_type": "code",
   "execution_count": 7,
   "id": "c5327f4f",
   "metadata": {},
   "outputs": [],
   "source": [
    "from csp import *\n",
    "\n",
    "def quadrado_latino(n, k = [], l = {}):\n",
    "    \"\"\"\n",
    "    Pode receber parametros ou não.\n",
    "    Deve devolver um CSP, à semelhança dos guiões das aulas PL.\n",
    "    Comente o código.\n",
    "    \"\"\"\n",
    "    variaveis = [(x,y) for x in range(n) for y in range(n)]\n",
    "\n",
    "\n",
    "    dominio = {}\n",
    "    for variavel in variaveis:\n",
    "        dominio[variavel] = [x for x in range(1,n+1)]\n",
    "    \n",
    "    if k != []:\n",
    "        for x in range(len(k)):\n",
    "            dominio[k[x][0]] = [k[x][1]]\n",
    "\n",
    "    vizinho = {}\n",
    "    for variavel in variaveis:\n",
    "        vizinho[variavel] = []\n",
    "        for variavel2 in variaveis:\n",
    "            if variavel != variavel2 and (variavel[0] == variavel2[0] or variavel[1] == variavel2[1]):\n",
    "                vizinho[variavel].append(variavel2)\n",
    "            \n",
    "    def resticoes_de_maior(posicao, valor):\n",
    "        O = (-1,0)\n",
    "        E = (1,0)\n",
    "        N = (0,-1)\n",
    "        S = (0,1) \n",
    "        if valor == \"O\":\n",
    "            return (posicao[0] + O[0], posicao[1] + O[1])\n",
    "        elif valor == \"E\":\n",
    "            return (posicao[0] + E[0], posicao[1] + E[1])\n",
    "        elif valor == \"N\":\n",
    "            return (posicao[0] + N[0], posicao[1] + N[1])\n",
    "        elif valor == \"S\":\n",
    "            return (posicao[0] + S[0], posicao[1] + S[1])\n",
    "\n",
    "    ll = {}\n",
    "    for pos in list(l.keys()):\n",
    "        ll[pos] = resticoes_de_maior(pos, l[pos])\n",
    "        \n",
    "\n",
    "\n",
    "    def restricoes_futoshiki(X, a, Y, b):\n",
    "        if a == b:\n",
    "            if X[0] == Y[0] or X[1] == Y[1]:\n",
    "                return False\n",
    "        else:\n",
    "            if ll != {}:\n",
    "                X = (int(X[0]),int(X[1]))\n",
    "                Y = (int(Y[0]),int(Y[1]))\n",
    "                if X in list(ll.keys()):\n",
    "                    if Y == ll[X] and a > b:\n",
    "                        return True\n",
    "                if X in list(ll.keys()):\n",
    "                    if Y != ll[X]:\n",
    "                        return True\n",
    "                if Y in list(ll.keys()):\n",
    "                    if X != ll[Y]:\n",
    "                        return True\n",
    "                if Y in list(ll.keys()):\n",
    "                    if X == ll[Y] and b > a:\n",
    "                        return True\n",
    "                if X and Y not in list(ll.keys()):\n",
    "                    return True\n",
    "                else:\n",
    "                    return False     \n",
    "            else:    \n",
    "                return True\n",
    "            \n",
    "\n",
    "    return CSP(variaveis, dominio, vizinho, restricoes_futoshiki), n"
   ]
  },
  {
   "cell_type": "markdown",
   "id": "f46b1688",
   "metadata": {},
   "source": [
    "## Criação do problema do quadrado latino simples\n",
    "\n",
    "Mostrem que o código está a funcionar, construindo um problema de quadrado latino *4x4*, imprimindo as variáveis, domínios iniciais, e vizinhos. Adicione os comentários necessários. Mostre como podemos criar um puzzle com quadrados já preenchidos, e qual o impacto que isso tem nas variáveis, domínios iniciais, e vizinhos."
   ]
  },
  {
   "cell_type": "code",
   "execution_count": 103,
   "id": "0b95b771",
   "metadata": {},
   "outputs": [
    {
     "name": "stdout",
     "output_type": "stream",
     "text": [
      "variáveis: [(0, 0), (0, 1), (0, 2), (0, 3), (1, 0), (1, 1), (1, 2), (1, 3), (2, 0), (2, 1), (2, 2), (2, 3), (3, 0), (3, 1), (3, 2), (3, 3)]\n",
      "\n",
      "\n",
      "dominio: {(0, 0): [1, 2, 3, 4], (0, 1): [1, 2, 3, 4], (0, 2): [1, 2, 3, 4], (0, 3): [1, 2, 3, 4], (1, 0): [1, 2, 3, 4], (1, 1): [1, 2, 3, 4], (1, 2): [1, 2, 3, 4], (1, 3): [1, 2, 3, 4], (2, 0): [1, 2, 3, 4], (2, 1): [1, 2, 3, 4], (2, 2): [1, 2, 3, 4], (2, 3): [1, 2, 3, 4], (3, 0): [1, 2, 3, 4], (3, 1): [1, 2, 3, 4], (3, 2): [1, 2, 3, 4], (3, 3): [1, 2, 3, 4]}\n",
      "\n",
      "\n",
      "vizinhos: {(0, 0): [(0, 1), (0, 2), (0, 3), (1, 0), (2, 0), (3, 0)], (0, 1): [(0, 0), (0, 2), (0, 3), (1, 1), (2, 1), (3, 1)], (0, 2): [(0, 0), (0, 1), (0, 3), (1, 2), (2, 2), (3, 2)], (0, 3): [(0, 0), (0, 1), (0, 2), (1, 3), (2, 3), (3, 3)], (1, 0): [(0, 0), (1, 1), (1, 2), (1, 3), (2, 0), (3, 0)], (1, 1): [(0, 1), (1, 0), (1, 2), (1, 3), (2, 1), (3, 1)], (1, 2): [(0, 2), (1, 0), (1, 1), (1, 3), (2, 2), (3, 2)], (1, 3): [(0, 3), (1, 0), (1, 1), (1, 2), (2, 3), (3, 3)], (2, 0): [(0, 0), (1, 0), (2, 1), (2, 2), (2, 3), (3, 0)], (2, 1): [(0, 1), (1, 1), (2, 0), (2, 2), (2, 3), (3, 1)], (2, 2): [(0, 2), (1, 2), (2, 0), (2, 1), (2, 3), (3, 2)], (2, 3): [(0, 3), (1, 3), (2, 0), (2, 1), (2, 2), (3, 3)], (3, 0): [(0, 0), (1, 0), (2, 0), (3, 1), (3, 2), (3, 3)], (3, 1): [(0, 1), (1, 1), (2, 1), (3, 0), (3, 2), (3, 3)], (3, 2): [(0, 2), (1, 2), (2, 2), (3, 0), (3, 1), (3, 3)], (3, 3): [(0, 3), (1, 3), (2, 3), (3, 0), (3, 1), (3, 2)]}\n",
      "\n",
      "\n",
      "restrições: False\n",
      "\n",
      "\n",
      "restrições: True\n"
     ]
    }
   ],
   "source": [
    "# código\n",
    "p, n = quadrado_latino(4)\n",
    "\n",
    "print(f\"variáveis: {p.variables}\")\n",
    "print(\"\\n\")\n",
    "\n",
    "print(f\"dominio: {p.domains}\")\n",
    "print(\"\\n\")\n",
    "\n",
    "print(f\"vizinhos: {p.neighbors}\")\n",
    "print(\"\\n\")\n",
    "\n",
    "print(f\"restrições: {p.constraints(('0', '0'), 1, ('0', '1'), 1)}\")\n",
    "print(\"\\n\")\n",
    "\n",
    "print(f\"restrições: {p.constraints(('0', '0'), 1, ('0', '1'), 2)}\")\n",
    "\n"
   ]
  },
  {
   "cell_type": "markdown",
   "metadata": {},
   "source": [
    "## Resolva o problema com o backtracking sem inferencia, com inferencia, e com uma heurística."
   ]
  },
  {
   "cell_type": "markdown",
   "metadata": {},
   "source": [
    "backtracking sem interferência"
   ]
  },
  {
   "cell_type": "code",
   "execution_count": 137,
   "metadata": {},
   "outputs": [
    {
     "name": "stdout",
     "output_type": "stream",
     "text": [
      "Curr_domains: {(0, 0): [1], (0, 1): [2], (0, 2): [3], (0, 3): [4], (1, 0): [2], (1, 1): [1], (1, 2): [4], (1, 3): [3], (2, 0): [3], (2, 1): [4], (2, 2): [1], (2, 3): [2], (3, 0): [4], (3, 1): [3], (3, 2): [2], (3, 3): [1]}\n",
      "Current assignment: {}\n",
      "\n",
      "Next selected Var = (0, 0)\n",
      "Sorted domain left [1]\n",
      "--Test (0, 0) 1\n",
      "----Assigned!\n",
      "Curr_domains: {(0, 0): [1], (0, 1): [2], (0, 2): [3], (0, 3): [4], (1, 0): [2], (1, 1): [1], (1, 2): [4], (1, 3): [3], (2, 0): [3], (2, 1): [4], (2, 2): [1], (2, 3): [2], (3, 0): [4], (3, 1): [3], (3, 2): [2], (3, 3): [1]}\n",
      "Current assignment: {(0, 0): 1}\n",
      "\n",
      "Next selected Var = (0, 1)\n",
      "Sorted domain left [2]\n",
      "--Test (0, 1) 2\n",
      "----Assigned!\n",
      "Curr_domains: {(0, 0): [1], (0, 1): [2], (0, 2): [3], (0, 3): [4], (1, 0): [2], (1, 1): [1], (1, 2): [4], (1, 3): [3], (2, 0): [3], (2, 1): [4], (2, 2): [1], (2, 3): [2], (3, 0): [4], (3, 1): [3], (3, 2): [2], (3, 3): [1]}\n",
      "Current assignment: {(0, 0): 1, (0, 1): 2}\n",
      "\n",
      "Next selected Var = (0, 2)\n",
      "Sorted domain left [3]\n",
      "--Test (0, 2) 3\n",
      "----Assigned!\n",
      "Curr_domains: {(0, 0): [1], (0, 1): [2], (0, 2): [3], (0, 3): [4], (1, 0): [2], (1, 1): [1], (1, 2): [4], (1, 3): [3], (2, 0): [3], (2, 1): [4], (2, 2): [1], (2, 3): [2], (3, 0): [4], (3, 1): [3], (3, 2): [2], (3, 3): [1]}\n",
      "Current assignment: {(0, 0): 1, (0, 1): 2, (0, 2): 3}\n",
      "\n",
      "Next selected Var = (0, 3)\n",
      "Sorted domain left [4]\n",
      "--Test (0, 3) 4\n",
      "----Assigned!\n",
      "Curr_domains: {(0, 0): [1], (0, 1): [2], (0, 2): [3], (0, 3): [4], (1, 0): [2], (1, 1): [1], (1, 2): [4], (1, 3): [3], (2, 0): [3], (2, 1): [4], (2, 2): [1], (2, 3): [2], (3, 0): [4], (3, 1): [3], (3, 2): [2], (3, 3): [1]}\n",
      "Current assignment: {(0, 0): 1, (0, 1): 2, (0, 2): 3, (0, 3): 4}\n",
      "\n",
      "Next selected Var = (1, 0)\n",
      "Sorted domain left [2]\n",
      "--Test (1, 0) 2\n",
      "----Assigned!\n",
      "Curr_domains: {(0, 0): [1], (0, 1): [2], (0, 2): [3], (0, 3): [4], (1, 0): [2], (1, 1): [1], (1, 2): [4], (1, 3): [3], (2, 0): [3], (2, 1): [4], (2, 2): [1], (2, 3): [2], (3, 0): [4], (3, 1): [3], (3, 2): [2], (3, 3): [1]}\n",
      "Current assignment: {(0, 0): 1, (0, 1): 2, (0, 2): 3, (0, 3): 4, (1, 0): 2}\n",
      "\n",
      "Next selected Var = (1, 1)\n",
      "Sorted domain left [1]\n",
      "--Test (1, 1) 1\n",
      "----Assigned!\n",
      "Curr_domains: {(0, 0): [1], (0, 1): [2], (0, 2): [3], (0, 3): [4], (1, 0): [2], (1, 1): [1], (1, 2): [4], (1, 3): [3], (2, 0): [3], (2, 1): [4], (2, 2): [1], (2, 3): [2], (3, 0): [4], (3, 1): [3], (3, 2): [2], (3, 3): [1]}\n",
      "Current assignment: {(0, 0): 1, (0, 1): 2, (0, 2): 3, (0, 3): 4, (1, 0): 2, (1, 1): 1}\n",
      "\n",
      "Next selected Var = (1, 2)\n",
      "Sorted domain left [4]\n",
      "--Test (1, 2) 4\n",
      "----Assigned!\n",
      "Curr_domains: {(0, 0): [1], (0, 1): [2], (0, 2): [3], (0, 3): [4], (1, 0): [2], (1, 1): [1], (1, 2): [4], (1, 3): [3], (2, 0): [3], (2, 1): [4], (2, 2): [1], (2, 3): [2], (3, 0): [4], (3, 1): [3], (3, 2): [2], (3, 3): [1]}\n",
      "Current assignment: {(0, 0): 1, (0, 1): 2, (0, 2): 3, (0, 3): 4, (1, 0): 2, (1, 1): 1, (1, 2): 4}\n",
      "\n",
      "Next selected Var = (1, 3)\n",
      "Sorted domain left [3]\n",
      "--Test (1, 3) 3\n",
      "----Assigned!\n",
      "Curr_domains: {(0, 0): [1], (0, 1): [2], (0, 2): [3], (0, 3): [4], (1, 0): [2], (1, 1): [1], (1, 2): [4], (1, 3): [3], (2, 0): [3], (2, 1): [4], (2, 2): [1], (2, 3): [2], (3, 0): [4], (3, 1): [3], (3, 2): [2], (3, 3): [1]}\n",
      "Current assignment: {(0, 0): 1, (0, 1): 2, (0, 2): 3, (0, 3): 4, (1, 0): 2, (1, 1): 1, (1, 2): 4, (1, 3): 3}\n",
      "\n",
      "Next selected Var = (2, 0)\n",
      "Sorted domain left [3]\n",
      "--Test (2, 0) 3\n",
      "----Assigned!\n",
      "Curr_domains: {(0, 0): [1], (0, 1): [2], (0, 2): [3], (0, 3): [4], (1, 0): [2], (1, 1): [1], (1, 2): [4], (1, 3): [3], (2, 0): [3], (2, 1): [4], (2, 2): [1], (2, 3): [2], (3, 0): [4], (3, 1): [3], (3, 2): [2], (3, 3): [1]}\n",
      "Current assignment: {(0, 0): 1, (0, 1): 2, (0, 2): 3, (0, 3): 4, (1, 0): 2, (1, 1): 1, (1, 2): 4, (1, 3): 3, (2, 0): 3}\n",
      "\n",
      "Next selected Var = (2, 1)\n",
      "Sorted domain left [4]\n",
      "--Test (2, 1) 4\n",
      "----Assigned!\n",
      "Curr_domains: {(0, 0): [1], (0, 1): [2], (0, 2): [3], (0, 3): [4], (1, 0): [2], (1, 1): [1], (1, 2): [4], (1, 3): [3], (2, 0): [3], (2, 1): [4], (2, 2): [1], (2, 3): [2], (3, 0): [4], (3, 1): [3], (3, 2): [2], (3, 3): [1]}\n",
      "Current assignment: {(0, 0): 1, (0, 1): 2, (0, 2): 3, (0, 3): 4, (1, 0): 2, (1, 1): 1, (1, 2): 4, (1, 3): 3, (2, 0): 3, (2, 1): 4}\n",
      "\n",
      "Next selected Var = (2, 2)\n",
      "Sorted domain left [1]\n",
      "--Test (2, 2) 1\n",
      "----Assigned!\n",
      "Curr_domains: {(0, 0): [1], (0, 1): [2], (0, 2): [3], (0, 3): [4], (1, 0): [2], (1, 1): [1], (1, 2): [4], (1, 3): [3], (2, 0): [3], (2, 1): [4], (2, 2): [1], (2, 3): [2], (3, 0): [4], (3, 1): [3], (3, 2): [2], (3, 3): [1]}\n",
      "Current assignment: {(0, 0): 1, (0, 1): 2, (0, 2): 3, (0, 3): 4, (1, 0): 2, (1, 1): 1, (1, 2): 4, (1, 3): 3, (2, 0): 3, (2, 1): 4, (2, 2): 1}\n",
      "\n",
      "Next selected Var = (2, 3)\n",
      "Sorted domain left [2]\n",
      "--Test (2, 3) 2\n",
      "----Assigned!\n",
      "Curr_domains: {(0, 0): [1], (0, 1): [2], (0, 2): [3], (0, 3): [4], (1, 0): [2], (1, 1): [1], (1, 2): [4], (1, 3): [3], (2, 0): [3], (2, 1): [4], (2, 2): [1], (2, 3): [2], (3, 0): [4], (3, 1): [3], (3, 2): [2], (3, 3): [1]}\n",
      "Current assignment: {(0, 0): 1, (0, 1): 2, (0, 2): 3, (0, 3): 4, (1, 0): 2, (1, 1): 1, (1, 2): 4, (1, 3): 3, (2, 0): 3, (2, 1): 4, (2, 2): 1, (2, 3): 2}\n",
      "\n",
      "Next selected Var = (3, 0)\n",
      "Sorted domain left [4]\n",
      "--Test (3, 0) 4\n",
      "----Assigned!\n",
      "Curr_domains: {(0, 0): [1], (0, 1): [2], (0, 2): [3], (0, 3): [4], (1, 0): [2], (1, 1): [1], (1, 2): [4], (1, 3): [3], (2, 0): [3], (2, 1): [4], (2, 2): [1], (2, 3): [2], (3, 0): [4], (3, 1): [3], (3, 2): [2], (3, 3): [1]}\n",
      "Current assignment: {(0, 0): 1, (0, 1): 2, (0, 2): 3, (0, 3): 4, (1, 0): 2, (1, 1): 1, (1, 2): 4, (1, 3): 3, (2, 0): 3, (2, 1): 4, (2, 2): 1, (2, 3): 2, (3, 0): 4}\n",
      "\n",
      "Next selected Var = (3, 1)\n",
      "Sorted domain left [3]\n",
      "--Test (3, 1) 3\n",
      "----Assigned!\n",
      "Curr_domains: {(0, 0): [1], (0, 1): [2], (0, 2): [3], (0, 3): [4], (1, 0): [2], (1, 1): [1], (1, 2): [4], (1, 3): [3], (2, 0): [3], (2, 1): [4], (2, 2): [1], (2, 3): [2], (3, 0): [4], (3, 1): [3], (3, 2): [2], (3, 3): [1]}\n",
      "Current assignment: {(0, 0): 1, (0, 1): 2, (0, 2): 3, (0, 3): 4, (1, 0): 2, (1, 1): 1, (1, 2): 4, (1, 3): 3, (2, 0): 3, (2, 1): 4, (2, 2): 1, (2, 3): 2, (3, 0): 4, (3, 1): 3}\n",
      "\n",
      "Next selected Var = (3, 2)\n",
      "Sorted domain left [2]\n",
      "--Test (3, 2) 2\n",
      "----Assigned!\n",
      "Curr_domains: {(0, 0): [1], (0, 1): [2], (0, 2): [3], (0, 3): [4], (1, 0): [2], (1, 1): [1], (1, 2): [4], (1, 3): [3], (2, 0): [3], (2, 1): [4], (2, 2): [1], (2, 3): [2], (3, 0): [4], (3, 1): [3], (3, 2): [2], (3, 3): [1]}\n",
      "Current assignment: {(0, 0): 1, (0, 1): 2, (0, 2): 3, (0, 3): 4, (1, 0): 2, (1, 1): 1, (1, 2): 4, (1, 3): 3, (2, 0): 3, (2, 1): 4, (2, 2): 1, (2, 3): 2, (3, 0): 4, (3, 1): 3, (3, 2): 2}\n",
      "\n",
      "Next selected Var = (3, 3)\n",
      "Sorted domain left [1]\n",
      "--Test (3, 3) 1\n",
      "----Assigned!\n",
      "{(0, 0): 1, (0, 1): 2, (0, 2): 3, (0, 3): 4, (1, 0): 2, (1, 1): 1, (1, 2): 4, (1, 3): 3, (2, 0): 3, (2, 1): 4, (2, 2): 1, (2, 3): 2, (3, 0): 4, (3, 1): 3, (3, 2): 2, (3, 3): 1}\n"
     ]
    }
   ],
   "source": [
    "pp = backtracking_search(p, verbose=True)\n",
    "print(pp)"
   ]
  },
  {
   "cell_type": "markdown",
   "metadata": {},
   "source": [
    "backtracking com interferência"
   ]
  },
  {
   "cell_type": "code",
   "execution_count": 105,
   "metadata": {},
   "outputs": [
    {
     "name": "stdout",
     "output_type": "stream",
     "text": [
      "{(0, 0): 1, (0, 1): 2, (0, 2): 3, (0, 3): 4, (1, 0): 2, (1, 1): 1, (1, 2): 4, (1, 3): 3, (2, 0): 3, (2, 1): 4, (2, 2): 1, (2, 3): 2, (3, 0): 4, (3, 1): 3, (3, 2): 2, (3, 3): 1}\n"
     ]
    }
   ],
   "source": [
    "print(backtracking_search(p,inference = forward_checking, verbose=False))\n"
   ]
  },
  {
   "cell_type": "markdown",
   "metadata": {},
   "source": [
    "backtracking com interferência mac"
   ]
  },
  {
   "cell_type": "code",
   "execution_count": 107,
   "metadata": {},
   "outputs": [
    {
     "name": "stdout",
     "output_type": "stream",
     "text": [
      "{(0, 0): 1, (0, 1): 2, (0, 2): 3, (0, 3): 4, (1, 0): 2, (1, 1): 1, (1, 2): 4, (1, 3): 3, (2, 0): 3, (2, 1): 4, (2, 2): 1, (2, 3): 2, (3, 0): 4, (3, 1): 3, (3, 2): 2, (3, 3): 1}\n"
     ]
    }
   ],
   "source": [
    "print(backtracking_search(p,inference = mac, verbose=False))\n"
   ]
  },
  {
   "cell_type": "markdown",
   "metadata": {},
   "source": [
    "backtracking com heuristica"
   ]
  },
  {
   "cell_type": "code",
   "execution_count": 108,
   "metadata": {},
   "outputs": [
    {
     "name": "stdout",
     "output_type": "stream",
     "text": [
      "{(0, 2): 3, (1, 3): 3, (3, 0): 4, (1, 0): 2, (0, 3): 4, (2, 2): 1, (0, 0): 1, (2, 1): 4, (3, 1): 3, (2, 3): 2, (2, 0): 3, (1, 2): 4, (1, 1): 1, (3, 2): 2, (0, 1): 2, (3, 3): 1}\n"
     ]
    }
   ],
   "source": [
    "print(backtracking_search(p,select_unassigned_variable = mrv, verbose=False))"
   ]
  },
  {
   "cell_type": "markdown",
   "metadata": {},
   "source": [
    "backtracking com interferência e heuristica"
   ]
  },
  {
   "cell_type": "code",
   "execution_count": 109,
   "metadata": {},
   "outputs": [
    {
     "name": "stdout",
     "output_type": "stream",
     "text": [
      "{(3, 3): 1, (2, 2): 1, (0, 3): 4, (0, 2): 3, (1, 2): 4, (3, 0): 4, (2, 1): 4, (3, 2): 2, (2, 3): 2, (0, 0): 1, (1, 3): 3, (1, 1): 1, (0, 1): 2, (2, 0): 3, (1, 0): 2, (3, 1): 3}\n"
     ]
    }
   ],
   "source": [
    "print(backtracking_search(p, select_unassigned_variable = mrv,inference=forward_checking, verbose=False))"
   ]
  },
  {
   "cell_type": "markdown",
   "metadata": {},
   "source": [
    "## Visualização do problema"
   ]
  },
  {
   "cell_type": "code",
   "execution_count": 110,
   "metadata": {},
   "outputs": [],
   "source": [
    "# Implemente uma função que permita visualizar o quadrado latino, antes e depois de resolvido.\n",
    "def display(p, n = 0):\n",
    "    if type(p) is CSP:\n",
    "        dominio = p.domains\n",
    "        for y in range(n):\n",
    "            print(\"|\", end=\"\")\n",
    "            for x in range(n):\n",
    "                string = \" \"\n",
    "                if dominio[(x,y)] == [n for n in range(1,n+1)]:\n",
    "                    string = \" *\"\n",
    "                else:\n",
    "                    string += str(dominio[(x,y)][0])\n",
    "                print(string, end=\" |\")\n",
    "            print(\"\\n\")\n",
    "            \n",
    "    if type(p) is dict:\n",
    "        for y in range(n):\n",
    "            print(\"| \", end=\"\")\n",
    "            for x in range(n):\n",
    "                print(p[(x, y)], end=\" | \")\n",
    "            print(\"\\n\")"
   ]
  },
  {
   "cell_type": "markdown",
   "metadata": {},
   "source": [
    "display"
   ]
  },
  {
   "cell_type": "code",
   "execution_count": 111,
   "metadata": {},
   "outputs": [
    {
     "name": "stdout",
     "output_type": "stream",
     "text": [
      "| * | * | * | * |\n",
      "\n",
      "| * | * | * | * |\n",
      "\n",
      "| * | * | * | * |\n",
      "\n",
      "| * | * | * | * |\n",
      "\n",
      "\n",
      "\n",
      "| 1 | 2 | 3 | 4 | \n",
      "\n",
      "| 2 | 1 | 4 | 3 | \n",
      "\n",
      "| 3 | 4 | 1 | 2 | \n",
      "\n",
      "| 4 | 3 | 2 | 1 | \n",
      "\n"
     ]
    }
   ],
   "source": [
    "display(p, n)\n",
    "print(\"\\n\")\n",
    "display(pp, n)"
   ]
  },
  {
   "cell_type": "markdown",
   "id": "14a095c8",
   "metadata": {},
   "source": [
    "## Criação do problema Futoshiki *5x5*\n",
    "\n",
    "Mostrem que o código está a funcionar, construindo um problema de Futoshiki *5x5*, imprimindo as variáveis, domínios iniciais, e vizinhos. Adicione os comentários necessários. Utilize o [link](https://www.futoshiki.org/) para gerar puzzles e validar a implementação."
   ]
  },
  {
   "cell_type": "code",
   "execution_count": 125,
   "id": "06577d27",
   "metadata": {},
   "outputs": [
    {
     "name": "stdout",
     "output_type": "stream",
     "text": [
      "variáveis: [(0, 0), (0, 1), (0, 2), (0, 3), (1, 0), (1, 1), (1, 2), (1, 3), (2, 0), (2, 1), (2, 2), (2, 3), (3, 0), (3, 1), (3, 2), (3, 3)]\n",
      "\n",
      "\n",
      "dominio: {(0, 0): [1, 2, 3, 4], (0, 1): [1, 2, 3, 4], (0, 2): [1, 2, 3, 4], (0, 3): [1, 2, 3, 4], (1, 0): [1, 2, 3, 4], (1, 1): [1, 2, 3, 4], (1, 2): [1, 2, 3, 4], (1, 3): [1, 2, 3, 4], (2, 0): [1, 2, 3, 4], (2, 1): [1, 2, 3, 4], (2, 2): [1, 2, 3, 4], (2, 3): [1, 2, 3, 4], (3, 0): [1, 2, 3, 4], (3, 1): [1, 2, 3, 4], (3, 2): [1, 2, 3, 4], (3, 3): [1, 2, 3, 4]}\n",
      "\n",
      "\n",
      "vizinhos: {(0, 0): [(0, 1), (0, 2), (0, 3), (1, 0), (2, 0), (3, 0)], (0, 1): [(0, 0), (0, 2), (0, 3), (1, 1), (2, 1), (3, 1)], (0, 2): [(0, 0), (0, 1), (0, 3), (1, 2), (2, 2), (3, 2)], (0, 3): [(0, 0), (0, 1), (0, 2), (1, 3), (2, 3), (3, 3)], (1, 0): [(0, 0), (1, 1), (1, 2), (1, 3), (2, 0), (3, 0)], (1, 1): [(0, 1), (1, 0), (1, 2), (1, 3), (2, 1), (3, 1)], (1, 2): [(0, 2), (1, 0), (1, 1), (1, 3), (2, 2), (3, 2)], (1, 3): [(0, 3), (1, 0), (1, 1), (1, 2), (2, 3), (3, 3)], (2, 0): [(0, 0), (1, 0), (2, 1), (2, 2), (2, 3), (3, 0)], (2, 1): [(0, 1), (1, 1), (2, 0), (2, 2), (2, 3), (3, 1)], (2, 2): [(0, 2), (1, 2), (2, 0), (2, 1), (2, 3), (3, 2)], (2, 3): [(0, 3), (1, 3), (2, 0), (2, 1), (2, 2), (3, 3)], (3, 0): [(0, 0), (1, 0), (2, 0), (3, 1), (3, 2), (3, 3)], (3, 1): [(0, 1), (1, 1), (2, 1), (3, 0), (3, 2), (3, 3)], (3, 2): [(0, 2), (1, 2), (2, 2), (3, 0), (3, 1), (3, 3)], (3, 3): [(0, 3), (1, 3), (2, 3), (3, 0), (3, 1), (3, 2)]}\n",
      "\n",
      "\n",
      "restrições: True\n"
     ]
    }
   ],
   "source": [
    "# código de aplicação dos algoritmos\n",
    "futoshiki, futoshiki_n = quadrado_latino(5, k=[((0,0), 5), ((3,2), 3), ((1,0),1)], l={(1,0): \"E\"})\n",
    "\n",
    "print(f\"variáveis: {p.variables}\")\n",
    "print(\"\\n\")\n",
    "\n",
    "print(f\"dominio: {p.domains}\")\n",
    "print(\"\\n\")\n",
    "\n",
    "print(f\"vizinhos: {p.neighbors}\")\n",
    "print(\"\\n\")\n",
    "\n",
    "print(f\"restrições: {p.constraints(('1', '0'), 2, ('2', '0'), 3)}\")"
   ]
  },
  {
   "cell_type": "markdown",
   "metadata": {},
   "source": [
    "Resolva o problema com o backtracking sem inferencia, com inferencia, e com uma heurística. Até que dimensão consegue resolver o problema em menos de 1 minuto?"
   ]
  },
  {
   "cell_type": "code",
   "execution_count": 121,
   "metadata": {},
   "outputs": [
    {
     "name": "stdout",
     "output_type": "stream",
     "text": [
      "{(0, 0): 1, (0, 1): 2, (0, 2): 3, (0, 3): 4, (1, 0): 2, (1, 1): 1, (1, 2): 4, (1, 3): 3, (2, 0): 3, (2, 1): 4, (2, 2): 1, (2, 3): 2, (3, 0): 4, (3, 1): 3, (3, 2): 2, (3, 3): 1}\n"
     ]
    }
   ],
   "source": [
    "# código \n",
    "futoshiki_backtracking = backtracking_search(futoshiki, verbose=False)\n",
    "print(pp)"
   ]
  },
  {
   "cell_type": "markdown",
   "metadata": {},
   "source": [
    "## Visualização do problema"
   ]
  },
  {
   "cell_type": "code",
   "execution_count": 124,
   "metadata": {},
   "outputs": [
    {
     "name": "stdout",
     "output_type": "stream",
     "text": [
      "| 5 | 1 | * | * | * |\n",
      "\n",
      "| * | * | * | * | * |\n",
      "\n",
      "| * | * | * | 3 | * |\n",
      "\n",
      "| * | * | * | * | * |\n",
      "\n",
      "| * | * | * | * | * |\n",
      "\n",
      "\n",
      "\n"
     ]
    }
   ],
   "source": [
    "# Implemente uma função que permita visualizar o puzzle Futoshiki, antes e depois de resolvido. Compare com a solução obtida pelo seu algoritmo. \n",
    "# No caso de não implementar esta função, inclua um screenshot do problema e da sua solução.\n",
    "display(futoshiki, futoshiki_n)\n",
    "print(\"\\n\")\n",
    "display(futoshiki_backtracking, futoshiki_n)"
   ]
  }
 ],
 "metadata": {
  "interpreter": {
   "hash": "baf2cef78bcf578a4101c4ff48129fd964146432bbe0481872a9d55a4a2f347e"
  },
  "kernelspec": {
   "display_name": "Python 3.10.4 64-bit",
   "language": "python",
   "name": "python3"
  },
  "language_info": {
   "codemirror_mode": {
    "name": "ipython",
    "version": 3
   },
   "file_extension": ".py",
   "mimetype": "text/x-python",
   "name": "python",
   "nbconvert_exporter": "python",
   "pygments_lexer": "ipython3",
   "version": "3.10.4"
  },
  "orig_nbformat": 4
 },
 "nbformat": 4,
 "nbformat_minor": 2
}

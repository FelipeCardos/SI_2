{
 "cells": [
  {
   "cell_type": "markdown",
   "id": "bf9c87b1",
   "metadata": {},
   "source": [
    "# Sistemas Inteligentes 2021/2022\n",
    "\n",
    "## Mini-projeto 2: Quadrados Latinos\n"
   ]
  },
  {
   "cell_type": "markdown",
   "id": "d7b8efca",
   "metadata": {},
   "source": [
    "## Grupo: 36\n",
    "\n",
    "### Elementos do Grupo\n",
    "\n",
    "Número:55856         Nome:Bernardo Rebelo     \n",
    "Número:         Nome:Felipe Habib     \n",
    "Número:56952         Nome:Tiago Rosa      \n",
    "\n",
    "(Nota: Neste relatório pode adicionar as células de texto e código que achar necessárias.)"
   ]
  },
  {
   "cell_type": "markdown",
   "id": "df10acb0",
   "metadata": {},
   "source": [
    "## Representação de variáveis, domínios, vizinhos e restrições\n",
    "\n",
    "Descreva aqui, textualmente, como decidiu representar as variáveis, domínios, vizinhos e restrições em Python;"
   ]
  },
  {
   "cell_type": "markdown",
   "id": "4ab69211",
   "metadata": {},
   "source": [
    "## Formulação do problema"
   ]
  },
  {
   "cell_type": "markdown",
   "metadata": {},
   "source": [
    "O nosso problema recebe 3 variáveis **n** que define o tamanho do quadrado e que valores o domínio pode tomar, **k** que define posições pré-selecionadas e **l** que define que certas posições têm de ser maiores que outras.\n",
    "\n",
    "Exemplo de como chamar a função ```quadrado_latino(n) ```:\n",
    "```python\n",
    "a = quadrado_latino(3)\n",
    "b = quadrado_latino(3, k = [((0,0), 2)])\n",
    "c = quadrado_latino(3, l = {(1,0): 'O'})\n",
    "d = quadrado_latino(3, k = [((0,0), 2)], l = {(1,0): 'O'})\n",
    "```\n",
    "\n",
    "Onde n delimita o quadrado e criando posições ``` (0,0) ``` .... ``` (n-1,n-1) ```\n",
    "\n",
    "Onde em k ``` (0,0) ``` significa a posição e ``` 2 ``` o valor a tomar.\n",
    "\n",
    "Onde em l ``` (1,0) ``` significa a posição que tem de ser maior que outra e ``` O ``` a direção que pode ser N,S,E,O ou seja a posição ``` (1,0) ``` tem que ser maior que a posição ``` (0,0) ``` e neste caso ``` d (1,0)``` só poderia tomar o valor 3 fazendo a linha:\n",
    " ``` \n",
    "     2|3|1\n",
    "     -|-|-\n",
    "     -|-|-\n",
    "```  "
   ]
  },
  {
   "cell_type": "code",
   "execution_count": 45,
   "id": "c5327f4f",
   "metadata": {},
   "outputs": [],
   "source": [
    "from csp import *\n",
    "\n",
    "def quadrado_latino(n, k = [], l = {}):\n",
    "    \"\"\"\n",
    "    Pode receber parametros ou não.\n",
    "    Deve devolver um CSP, à semelhança dos guiões das aulas PL.\n",
    "    Comente o código.\n",
    "    \"\"\"\n",
    "    variaveis = [(x,y) for x in range(n) for y in range(n)]\n",
    "\n",
    "\n",
    "    dominio = {}\n",
    "    for variavel in variaveis:\n",
    "        dominio[variavel] = [x for x in range(1,n+1)]\n",
    "    \n",
    "    if k != []:\n",
    "        for x in range(len(k)):\n",
    "            dominio[k[x][0]] = [k[x][1]]\n",
    "\n",
    "    vizinho = {}\n",
    "    for variavel in variaveis:\n",
    "        vizinho[variavel] = []\n",
    "        for variavel2 in variaveis:\n",
    "            if variavel != variavel2 and (variavel[0] == variavel2[0] or variavel[1] == variavel2[1]):\n",
    "                vizinho[variavel].append(variavel2)\n",
    "            \n",
    "    def resticoes_de_maior(posicao, valor):\n",
    "        O = (-1,0)\n",
    "        E = (1,0)\n",
    "        N = (0,-1)\n",
    "        S = (0,1) \n",
    "        if valor == \"O\":\n",
    "            return (posicao[0] + O[0], posicao[1] + O[1])\n",
    "        elif valor == \"E\":\n",
    "            return (posicao[0] + E[0], posicao[1] + E[1])\n",
    "        elif valor == \"N\":\n",
    "            return (posicao[0] + N[0], posicao[1] + N[1])\n",
    "        elif valor == \"S\":\n",
    "            return (posicao[0] + S[0], posicao[1] + S[1])\n",
    "\n",
    "    ll = {}\n",
    "    for pos in list(l.keys()):\n",
    "        ll[pos] = resticoes_de_maior(pos, l[pos])\n",
    "        \n",
    "\n",
    "\n",
    "    def restricoes_futoshiki(X, a, Y, b):\n",
    "        if a == b:\n",
    "            if X[0] == Y[0] or X[1] == Y[1]:\n",
    "                return False\n",
    "        else:\n",
    "            if ll != {}:\n",
    "                X = (int(X[0]),int(X[1]))\n",
    "                Y = (int(Y[0]),int(Y[1]))\n",
    "                if X in list(ll.keys()):\n",
    "                    if Y == ll[X] and a > b:\n",
    "                        return True\n",
    "                if X in list(ll.keys()):\n",
    "                    if Y != ll[X]:\n",
    "                        return True\n",
    "                if Y in list(ll.keys()):\n",
    "                    if X != ll[Y]:\n",
    "                        return True\n",
    "                if Y in list(ll.keys()):\n",
    "                    if X == ll[Y] and b > a:\n",
    "                        return True\n",
    "                if X not in list(ll.keys()) and Y not in list(ll.keys()):\n",
    "                    return True\n",
    "                else:\n",
    "                    return False     \n",
    "            else:    \n",
    "                return True\n",
    "            \n",
    "\n",
    "    return CSP(variaveis, dominio, vizinho, restricoes_futoshiki)"
   ]
  },
  {
   "cell_type": "markdown",
   "id": "f46b1688",
   "metadata": {},
   "source": [
    "## Criação do problema do quadrado latino simples\n",
    "\n",
    "Mostrem que o código está a funcionar, construindo um problema de quadrado latino *4x4*, imprimindo as variáveis, domínios iniciais, e vizinhos. Adicione os comentários necessários. Mostre como podemos criar um puzzle com quadrados já preenchidos, e qual o impacto que isso tem nas variáveis, domínios iniciais, e vizinhos."
   ]
  },
  {
   "cell_type": "code",
   "execution_count": 47,
   "id": "0b95b771",
   "metadata": {},
   "outputs": [
    {
     "name": "stdout",
     "output_type": "stream",
     "text": [
      "variáveis: [(0, 0), (0, 1), (0, 2), (0, 3), (1, 0), (1, 1), (1, 2), (1, 3), (2, 0), (2, 1), (2, 2), (2, 3), (3, 0), (3, 1), (3, 2), (3, 3)]\n",
      "\n",
      "\n",
      "dominio: {(0, 0): [1, 2, 3, 4], (0, 1): [1, 2, 3, 4], (0, 2): [1, 2, 3, 4], (0, 3): [1, 2, 3, 4], (1, 0): [1, 2, 3, 4], (1, 1): [1, 2, 3, 4], (1, 2): [1, 2, 3, 4], (1, 3): [1, 2, 3, 4], (2, 0): [1, 2, 3, 4], (2, 1): [1, 2, 3, 4], (2, 2): [1, 2, 3, 4], (2, 3): [1, 2, 3, 4], (3, 0): [1, 2, 3, 4], (3, 1): [1, 2, 3, 4], (3, 2): [1, 2, 3, 4], (3, 3): [1, 2, 3, 4]}\n",
      "\n",
      "\n",
      "vizinhos: {(0, 0): [(0, 1), (0, 2), (0, 3), (1, 0), (2, 0), (3, 0)], (0, 1): [(0, 0), (0, 2), (0, 3), (1, 1), (2, 1), (3, 1)], (0, 2): [(0, 0), (0, 1), (0, 3), (1, 2), (2, 2), (3, 2)], (0, 3): [(0, 0), (0, 1), (0, 2), (1, 3), (2, 3), (3, 3)], (1, 0): [(0, 0), (1, 1), (1, 2), (1, 3), (2, 0), (3, 0)], (1, 1): [(0, 1), (1, 0), (1, 2), (1, 3), (2, 1), (3, 1)], (1, 2): [(0, 2), (1, 0), (1, 1), (1, 3), (2, 2), (3, 2)], (1, 3): [(0, 3), (1, 0), (1, 1), (1, 2), (2, 3), (3, 3)], (2, 0): [(0, 0), (1, 0), (2, 1), (2, 2), (2, 3), (3, 0)], (2, 1): [(0, 1), (1, 1), (2, 0), (2, 2), (2, 3), (3, 1)], (2, 2): [(0, 2), (1, 2), (2, 0), (2, 1), (2, 3), (3, 2)], (2, 3): [(0, 3), (1, 3), (2, 0), (2, 1), (2, 2), (3, 3)], (3, 0): [(0, 0), (1, 0), (2, 0), (3, 1), (3, 2), (3, 3)], (3, 1): [(0, 1), (1, 1), (2, 1), (3, 0), (3, 2), (3, 3)], (3, 2): [(0, 2), (1, 2), (2, 2), (3, 0), (3, 1), (3, 3)], (3, 3): [(0, 3), (1, 3), (2, 3), (3, 0), (3, 1), (3, 2)]}\n",
      "\n",
      "\n",
      "restrições: False\n",
      "\n",
      "\n",
      "restrições: True\n"
     ]
    }
   ],
   "source": [
    "# código\n",
    "n = 4\n",
    "p = quadrado_latino(n)\n",
    "\n",
    "print(f\"variáveis: {p.variables}\")\n",
    "print(\"\\n\")\n",
    "\n",
    "print(f\"dominio: {p.domains}\")\n",
    "print(\"\\n\")\n",
    "\n",
    "print(f\"vizinhos: {p.neighbors}\")\n",
    "print(\"\\n\")\n",
    "\n",
    "print(f\"restrições: {p.constraints(('0', '0'), 1, ('0', '1'), 1)}\")\n",
    "print(\"\\n\")\n",
    "\n",
    "print(f\"restrições: {p.constraints(('0', '0'), 1, ('0', '1'), 2)}\")\n",
    "\n"
   ]
  },
  {
   "cell_type": "markdown",
   "metadata": {},
   "source": [
    "## Resolva o problema com o backtracking sem inferencia, com inferencia, e com uma heurística."
   ]
  },
  {
   "cell_type": "markdown",
   "metadata": {},
   "source": [
    "backtracking sem inferência"
   ]
  },
  {
   "cell_type": "code",
   "execution_count": 56,
   "metadata": {},
   "outputs": [
    {
     "name": "stdout",
     "output_type": "stream",
     "text": [
      "{(0, 0): 1, (0, 1): 2, (0, 2): 3, (0, 3): 4, (1, 0): 2, (1, 1): 1, (1, 2): 4, (1, 3): 3, (2, 0): 3, (2, 1): 4, (2, 2): 1, (2, 3): 2, (3, 0): 4, (3, 1): 3, (3, 2): 2, (3, 3): 1}\n"
     ]
    }
   ],
   "source": [
    "backtracking_search_p = backtracking_search(p)\n",
    "print(backtracking_search_p)"
   ]
  },
  {
   "cell_type": "markdown",
   "metadata": {},
   "source": [
    "backtracking com inferência"
   ]
  },
  {
   "cell_type": "code",
   "execution_count": 49,
   "metadata": {},
   "outputs": [
    {
     "name": "stdout",
     "output_type": "stream",
     "text": [
      "{(0, 0): 1, (0, 1): 2, (0, 2): 3, (0, 3): 4, (1, 0): 2, (1, 1): 1, (1, 2): 4, (1, 3): 3, (2, 0): 3, (2, 1): 4, (2, 2): 1, (2, 3): 2, (3, 0): 4, (3, 1): 3, (3, 2): 2, (3, 3): 1}\n"
     ]
    }
   ],
   "source": [
    "print(backtracking_search(p,inference = forward_checking, verbose=False))\n"
   ]
  },
  {
   "cell_type": "markdown",
   "metadata": {},
   "source": [
    "backtracking com inferência mac"
   ]
  },
  {
   "cell_type": "code",
   "execution_count": 50,
   "metadata": {},
   "outputs": [
    {
     "name": "stdout",
     "output_type": "stream",
     "text": [
      "{(0, 0): 1, (0, 1): 2, (0, 2): 3, (0, 3): 4, (1, 0): 2, (1, 1): 1, (1, 2): 4, (1, 3): 3, (2, 0): 3, (2, 1): 4, (2, 2): 1, (2, 3): 2, (3, 0): 4, (3, 1): 3, (3, 2): 2, (3, 3): 1}\n"
     ]
    }
   ],
   "source": [
    "print(backtracking_search(p,inference = mac, verbose=False))\n"
   ]
  },
  {
   "cell_type": "markdown",
   "metadata": {},
   "source": [
    "backtracking com heuristica"
   ]
  },
  {
   "cell_type": "code",
   "execution_count": 51,
   "metadata": {},
   "outputs": [
    {
     "name": "stdout",
     "output_type": "stream",
     "text": [
      "{(1, 0): 2, (2, 1): 4, (1, 1): 1, (2, 0): 3, (1, 2): 4, (2, 2): 1, (3, 2): 2, (3, 3): 1, (3, 1): 3, (3, 0): 4, (0, 1): 2, (0, 0): 1, (0, 3): 4, (1, 3): 3, (0, 2): 3, (2, 3): 2}\n"
     ]
    }
   ],
   "source": [
    "print(backtracking_search(p,select_unassigned_variable = mrv, verbose=False))"
   ]
  },
  {
   "cell_type": "markdown",
   "metadata": {},
   "source": [
    "backtracking com inferência e heuristica"
   ]
  },
  {
   "cell_type": "code",
   "execution_count": 52,
   "metadata": {},
   "outputs": [
    {
     "name": "stdout",
     "output_type": "stream",
     "text": [
      "{(3, 0): 4, (2, 3): 2, (2, 2): 1, (0, 2): 3, (1, 1): 1, (0, 3): 4, (0, 1): 2, (1, 2): 4, (2, 0): 3, (3, 2): 2, (0, 0): 1, (3, 1): 3, (1, 3): 3, (1, 0): 2, (3, 3): 1, (2, 1): 4}\n"
     ]
    }
   ],
   "source": [
    "print(backtracking_search(p, select_unassigned_variable = mrv,inference=forward_checking, verbose=False))"
   ]
  },
  {
   "cell_type": "markdown",
   "metadata": {},
   "source": [
    "## Visualização do problema"
   ]
  },
  {
   "cell_type": "code",
   "execution_count": 53,
   "metadata": {},
   "outputs": [],
   "source": [
    "# Implemente uma função que permita visualizar o quadrado latino, antes e depois de resolvido.\n",
    "def display(p, n):\n",
    "    if type(p) is CSP:\n",
    "        dominio = p.domains\n",
    "        for y in range(n):\n",
    "            print(\"|\", end=\"\")\n",
    "            for x in range(n):\n",
    "                string = \" \"\n",
    "                if dominio[(x,y)] == [n for n in range(1,n+1)]:\n",
    "                    string = \" *\"\n",
    "                else:\n",
    "                    string += str(dominio[(x,y)][0])\n",
    "                print(string, end=\" |\")\n",
    "            print(\"\\n\")\n",
    "            \n",
    "    if type(p) is dict:\n",
    "        for y in range(n):\n",
    "            print(\"| \", end=\"\")\n",
    "            for x in range(n):\n",
    "                print(p[(x, y)], end=\" | \")\n",
    "            print(\"\\n\")"
   ]
  },
  {
   "cell_type": "markdown",
   "metadata": {},
   "source": [
    "display"
   ]
  },
  {
   "cell_type": "code",
   "execution_count": 57,
   "metadata": {},
   "outputs": [
    {
     "name": "stdout",
     "output_type": "stream",
     "text": [
      "| * | * | * | * |\n",
      "\n",
      "| * | * | * | * |\n",
      "\n",
      "| * | * | * | * |\n",
      "\n",
      "| * | * | * | * |\n",
      "\n",
      "\n",
      "\n",
      "| 1 | 2 | 3 | 4 | \n",
      "\n",
      "| 2 | 1 | 4 | 3 | \n",
      "\n",
      "| 3 | 4 | 1 | 2 | \n",
      "\n",
      "| 4 | 3 | 2 | 1 | \n",
      "\n"
     ]
    }
   ],
   "source": [
    "display(p, n)\n",
    "print(\"\\n\")\n",
    "display(backtracking_search_p, n)"
   ]
  },
  {
   "cell_type": "markdown",
   "id": "14a095c8",
   "metadata": {},
   "source": [
    "## Criação do problema Futoshiki *5x5*\n",
    "\n",
    "Mostrem que o código está a funcionar, construindo um problema de Futoshiki *5x5*, imprimindo as variáveis, domínios iniciais, e vizinhos. Adicione os comentários necessários. Utilize o [link](https://www.futoshiki.org/) para gerar puzzles e validar a implementação."
   ]
  },
  {
   "cell_type": "code",
   "execution_count": 97,
   "id": "06577d27",
   "metadata": {},
   "outputs": [
    {
     "name": "stdout",
     "output_type": "stream",
     "text": [
      "variáveis: [(0, 0), (0, 1), (0, 2), (0, 3), (0, 4), (1, 0), (1, 1), (1, 2), (1, 3), (1, 4), (2, 0), (2, 1), (2, 2), (2, 3), (2, 4), (3, 0), (3, 1), (3, 2), (3, 3), (3, 4), (4, 0), (4, 1), (4, 2), (4, 3), (4, 4)]\n",
      "\n",
      "\n",
      "dominio: {(0, 0): [5], (0, 1): [1, 2, 3, 4, 5], (0, 2): [1, 2, 3, 4, 5], (0, 3): [1, 2, 3, 4, 5], (0, 4): [1, 2, 3, 4, 5], (1, 0): [1, 2, 3, 4, 5], (1, 1): [1, 2, 3, 4, 5], (1, 2): [1, 2, 3, 4, 5], (1, 3): [1, 2, 3, 4, 5], (1, 4): [1, 2, 3, 4, 5], (2, 0): [3], (2, 1): [1, 2, 3, 4, 5], (2, 2): [1, 2, 3, 4, 5], (2, 3): [1, 2, 3, 4, 5], (2, 4): [1, 2, 3, 4, 5], (3, 0): [1, 2, 3, 4, 5], (3, 1): [1, 2, 3, 4, 5], (3, 2): [3], (3, 3): [1, 2, 3, 4, 5], (3, 4): [1, 2, 3, 4, 5], (4, 0): [1, 2, 3, 4, 5], (4, 1): [1, 2, 3, 4, 5], (4, 2): [1, 2, 3, 4, 5], (4, 3): [1, 2, 3, 4, 5], (4, 4): [1, 2, 3, 4, 5]}\n",
      "\n",
      "\n",
      "vizinhos: {(0, 0): [(0, 1), (0, 2), (0, 3), (0, 4), (1, 0), (2, 0), (3, 0), (4, 0)], (0, 1): [(0, 0), (0, 2), (0, 3), (0, 4), (1, 1), (2, 1), (3, 1), (4, 1)], (0, 2): [(0, 0), (0, 1), (0, 3), (0, 4), (1, 2), (2, 2), (3, 2), (4, 2)], (0, 3): [(0, 0), (0, 1), (0, 2), (0, 4), (1, 3), (2, 3), (3, 3), (4, 3)], (0, 4): [(0, 0), (0, 1), (0, 2), (0, 3), (1, 4), (2, 4), (3, 4), (4, 4)], (1, 0): [(0, 0), (1, 1), (1, 2), (1, 3), (1, 4), (2, 0), (3, 0), (4, 0)], (1, 1): [(0, 1), (1, 0), (1, 2), (1, 3), (1, 4), (2, 1), (3, 1), (4, 1)], (1, 2): [(0, 2), (1, 0), (1, 1), (1, 3), (1, 4), (2, 2), (3, 2), (4, 2)], (1, 3): [(0, 3), (1, 0), (1, 1), (1, 2), (1, 4), (2, 3), (3, 3), (4, 3)], (1, 4): [(0, 4), (1, 0), (1, 1), (1, 2), (1, 3), (2, 4), (3, 4), (4, 4)], (2, 0): [(0, 0), (1, 0), (2, 1), (2, 2), (2, 3), (2, 4), (3, 0), (4, 0)], (2, 1): [(0, 1), (1, 1), (2, 0), (2, 2), (2, 3), (2, 4), (3, 1), (4, 1)], (2, 2): [(0, 2), (1, 2), (2, 0), (2, 1), (2, 3), (2, 4), (3, 2), (4, 2)], (2, 3): [(0, 3), (1, 3), (2, 0), (2, 1), (2, 2), (2, 4), (3, 3), (4, 3)], (2, 4): [(0, 4), (1, 4), (2, 0), (2, 1), (2, 2), (2, 3), (3, 4), (4, 4)], (3, 0): [(0, 0), (1, 0), (2, 0), (3, 1), (3, 2), (3, 3), (3, 4), (4, 0)], (3, 1): [(0, 1), (1, 1), (2, 1), (3, 0), (3, 2), (3, 3), (3, 4), (4, 1)], (3, 2): [(0, 2), (1, 2), (2, 2), (3, 0), (3, 1), (3, 3), (3, 4), (4, 2)], (3, 3): [(0, 3), (1, 3), (2, 3), (3, 0), (3, 1), (3, 2), (3, 4), (4, 3)], (3, 4): [(0, 4), (1, 4), (2, 4), (3, 0), (3, 1), (3, 2), (3, 3), (4, 4)], (4, 0): [(0, 0), (1, 0), (2, 0), (3, 0), (4, 1), (4, 2), (4, 3), (4, 4)], (4, 1): [(0, 1), (1, 1), (2, 1), (3, 1), (4, 0), (4, 2), (4, 3), (4, 4)], (4, 2): [(0, 2), (1, 2), (2, 2), (3, 2), (4, 0), (4, 1), (4, 3), (4, 4)], (4, 3): [(0, 3), (1, 3), (2, 3), (3, 3), (4, 0), (4, 1), (4, 2), (4, 4)], (4, 4): [(0, 4), (1, 4), (2, 4), (3, 4), (4, 0), (4, 1), (4, 2), (4, 3)]}\n",
      "\n",
      "\n",
      "('1', '0') 2 ('2', '0') 3\n",
      "restrições: True\n",
      "\n",
      "\n",
      "('1', '0') 4 ('2', '0') 3\n",
      "restrições: True\n"
     ]
    }
   ],
   "source": [
    "# código de aplicação dos algoritmos\n",
    "futoshiki_n = 5\n",
    "futoshiki = quadrado_latino(futoshiki_n, k=[((0,0), 5), ((3,2), 3), ((2,0),3)], l={(1,0): \"S\"})\n",
    "\n",
    "print(f\"variáveis: {futoshiki.variables}\")\n",
    "print(\"\\n\")\n",
    "\n",
    "print(f\"dominio: {futoshiki.domains}\")\n",
    "print(\"\\n\")\n",
    "\n",
    "print(f\"vizinhos: {futoshiki.neighbors}\")\n",
    "print(\"\\n\")\n",
    "\n",
    "print(('1', '0'), 2, ('2', '0'), 3)\n",
    "print(f\"restrições: {futoshiki.constraints(('1', '0'), 2, ('2', '0'), 3)}\")\n",
    "print(\"\\n\")\n",
    "\n",
    "print(('1', '0'), 4, ('2', '0'), 3)\n",
    "print(f\"restrições: {futoshiki.constraints(('1', '0'), 4, ('2', '0'), 3)}\")"
   ]
  },
  {
   "cell_type": "markdown",
   "metadata": {},
   "source": [
    "Resolva o problema com o backtracking sem inferencia, com inferencia, e com uma heurística. Até que dimensão consegue resolver o problema em menos de 1 minuto?"
   ]
  },
  {
   "cell_type": "markdown",
   "metadata": {},
   "source": [
    "backtracking sem interferência"
   ]
  },
  {
   "cell_type": "code",
   "execution_count": 89,
   "metadata": {},
   "outputs": [
    {
     "name": "stdout",
     "output_type": "stream",
     "text": [
      "{(0, 0): 5, (0, 1): 1, (0, 2): 2, (0, 3): 3, (0, 4): 4, (1, 0): 4, (1, 1): 2, (1, 2): 5, (1, 3): 1, (1, 4): 3, (2, 0): 3, (2, 1): 4, (2, 2): 1, (2, 3): 2, (2, 4): 5, (3, 0): 1, (3, 1): 5, (3, 2): 3, (3, 3): 4, (3, 4): 2, (4, 0): 2, (4, 1): 3, (4, 2): 4, (4, 3): 5, (4, 4): 1}\n"
     ]
    }
   ],
   "source": [
    "# código \n",
    "futoshiki_backtracking = backtracking_search(futoshiki, verbose=False)\n",
    "print(futoshiki_backtracking)"
   ]
  },
  {
   "cell_type": "markdown",
   "metadata": {},
   "source": [
    "backtracking com inferência"
   ]
  },
  {
   "cell_type": "code",
   "execution_count": 90,
   "metadata": {},
   "outputs": [
    {
     "name": "stdout",
     "output_type": "stream",
     "text": [
      "{(0, 0): 5, (0, 1): 1, (0, 2): 2, (0, 3): 3, (0, 4): 4, (1, 0): 4, (1, 1): 2, (1, 2): 5, (1, 3): 1, (1, 4): 3, (2, 0): 3, (2, 1): 4, (2, 2): 1, (2, 3): 2, (2, 4): 5, (3, 0): 1, (3, 1): 5, (3, 2): 3, (3, 3): 4, (3, 4): 2, (4, 0): 2, (4, 1): 3, (4, 2): 4, (4, 3): 5, (4, 4): 1}\n"
     ]
    }
   ],
   "source": [
    "print(backtracking_search(futoshiki,inference = forward_checking, verbose=False))\n"
   ]
  },
  {
   "cell_type": "markdown",
   "metadata": {},
   "source": [
    "backtracking com inferência mac"
   ]
  },
  {
   "cell_type": "code",
   "execution_count": 91,
   "metadata": {},
   "outputs": [
    {
     "name": "stdout",
     "output_type": "stream",
     "text": [
      "{(0, 0): 5, (0, 1): 1, (0, 2): 2, (0, 3): 3, (0, 4): 4, (1, 0): 4, (1, 1): 2, (1, 2): 5, (1, 3): 1, (1, 4): 3, (2, 0): 3, (2, 1): 4, (2, 2): 1, (2, 3): 2, (2, 4): 5, (3, 0): 1, (3, 1): 5, (3, 2): 3, (3, 3): 4, (3, 4): 2, (4, 0): 2, (4, 1): 3, (4, 2): 4, (4, 3): 5, (4, 4): 1}\n"
     ]
    }
   ],
   "source": [
    "print(backtracking_search(futoshiki,inference = mac, verbose=False))\n"
   ]
  },
  {
   "cell_type": "markdown",
   "metadata": {},
   "source": [
    "backtracking com heuristica"
   ]
  },
  {
   "cell_type": "code",
   "execution_count": 92,
   "metadata": {},
   "outputs": [
    {
     "name": "stdout",
     "output_type": "stream",
     "text": [
      "{(0, 1): 2, (2, 3): 2, (3, 2): 2, (2, 1): 4, (1, 2): 4, (0, 0): 1, (3, 3): 1, (1, 1): 1, (2, 0): 3, (3, 0): 4, (2, 2): 1, (3, 1): 3, (1, 3): 3, (0, 3): 4, (0, 2): 3, (1, 0): 2}\n"
     ]
    }
   ],
   "source": [
    "print(backtracking_search(p,select_unassigned_variable = mrv, verbose=False))"
   ]
  },
  {
   "cell_type": "markdown",
   "metadata": {},
   "source": [
    "backtracking com inferência e heuristica"
   ]
  },
  {
   "cell_type": "code",
   "execution_count": 95,
   "metadata": {},
   "outputs": [
    {
     "name": "stdout",
     "output_type": "stream",
     "text": [
      "{(0, 1): 2, (1, 1): 1, (2, 1): 4, (2, 0): 3, (2, 2): 1, (1, 2): 4, (0, 0): 1, (3, 0): 4, (0, 3): 4, (1, 3): 3, (2, 3): 2, (1, 0): 2, (3, 1): 3, (0, 2): 3, (3, 3): 1, (3, 2): 2}\n"
     ]
    }
   ],
   "source": [
    "print(backtracking_search(p, select_unassigned_variable = mrv,inference=forward_checking, verbose=False))"
   ]
  },
  {
   "cell_type": "markdown",
   "metadata": {},
   "source": [
    "## Visualização do problema"
   ]
  },
  {
   "cell_type": "code",
   "execution_count": 98,
   "metadata": {},
   "outputs": [
    {
     "name": "stdout",
     "output_type": "stream",
     "text": [
      "| 5 | * | 3 | * | * |\n",
      "\n",
      "| * | * | * | * | * |\n",
      "\n",
      "| * | * | * | 3 | * |\n",
      "\n",
      "| * | * | * | * | * |\n",
      "\n",
      "| * | * | * | * | * |\n",
      "\n",
      "\n",
      "\n",
      "| 5 | 4 | 3 | 1 | 2 | \n",
      "\n",
      "| 1 | 2 | 4 | 5 | 3 | \n",
      "\n",
      "| 2 | 5 | 1 | 3 | 4 | \n",
      "\n",
      "| 3 | 1 | 2 | 4 | 5 | \n",
      "\n",
      "| 4 | 3 | 5 | 2 | 1 | \n",
      "\n"
     ]
    }
   ],
   "source": [
    "# Implemente uma função que permita visualizar o puzzle Futoshiki, antes e depois de resolvido. Compare com a solução obtida pelo seu algoritmo. \n",
    "# No caso de não implementar esta função, inclua um screenshot do problema e da sua solução.\n",
    "display(futoshiki, futoshiki_n)\n",
    "print(\"\\n\")\n",
    "display(futoshiki_backtracking, futoshiki_n)"
   ]
  }
 ],
 "metadata": {
  "interpreter": {
   "hash": "baf2cef78bcf578a4101c4ff48129fd964146432bbe0481872a9d55a4a2f347e"
  },
  "kernelspec": {
   "display_name": "Python 3.10.4 64-bit",
   "language": "python",
   "name": "python3"
  },
  "language_info": {
   "codemirror_mode": {
    "name": "ipython",
    "version": 3
   },
   "file_extension": ".py",
   "mimetype": "text/x-python",
   "name": "python",
   "nbconvert_exporter": "python",
   "pygments_lexer": "ipython3",
   "version": "3.10.4"
  },
  "orig_nbformat": 4
 },
 "nbformat": 4,
 "nbformat_minor": 2
}
